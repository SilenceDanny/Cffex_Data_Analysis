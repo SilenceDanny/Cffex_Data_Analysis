{
 "cells": [
  {
   "cell_type": "code",
   "execution_count": 13,
   "metadata": {},
   "outputs": [
    {
     "name": "stderr",
     "output_type": "stream",
     "text": [
      "c:\\users\\silen\\appdata\\local\\programs\\python\\python36\\lib\\site-packages\\ipykernel_launcher.py:31: SettingWithCopyWarning: \n",
      "A value is trying to be set on a copy of a slice from a DataFrame.\n",
      "Try using .loc[row_indexer,col_indexer] = value instead\n",
      "\n",
      "See the caveats in the documentation: http://pandas.pydata.org/pandas-docs/stable/indexing.html#indexing-view-versus-copy\n",
      "c:\\users\\silen\\appdata\\local\\programs\\python\\python36\\lib\\site-packages\\ipykernel_launcher.py:49: SettingWithCopyWarning: \n",
      "A value is trying to be set on a copy of a slice from a DataFrame.\n",
      "Try using .loc[row_indexer,col_indexer] = value instead\n",
      "\n",
      "See the caveats in the documentation: http://pandas.pydata.org/pandas-docs/stable/indexing.html#indexing-view-versus-copy\n"
     ]
    }
   ],
   "source": [
    "#'cffex-host-alarm.csv' process code\n",
    "#Author: 普俊韬\n",
    "#Last update: 20180626\n",
    "\n",
    "#导入pandas、numpy库\n",
    "import pandas as pd\n",
    "import numpy as np\n",
    "\n",
    "\n",
    "#TODO：进行原始数据的分割处理\n",
    "\n",
    "#读取原始数据（GBK编码，数据不带列标题）\n",
    "data = pd.read_csv('raw_data\\cffex-host-alarm.csv',encoding = 'GBK', header = None)\n",
    "\n",
    "#分割数据字段，分隔符'|||'（'[|]+'),分割后扩展列\n",
    "data_processed = data[0].str.split('[|]+',expand = True)\n",
    "\n",
    "#插入列标题\n",
    "data_processed.columns = ['node_name', 'node_alias', 'component', 'category', 'alarm_count', 'first_time', 'last_time', 'alarm_level', 'alarm_content']\n",
    "\n",
    "\n",
    "#TODO：进行'component'字段的处理\n",
    "\n",
    "#将'component'字段提取出来作为一个DataFrame\n",
    "data_component = data_processed.loc[:,['component']]\n",
    "\n",
    "#去掉重复数据\n",
    "data_component_processed = data_component.drop_duplicates()\n",
    "\n",
    "#插入id列，编号从1开始\n",
    "data_component_processed['id'] = range(1,len(data_component_processed) + 1)\n",
    "\n",
    "#将列顺序调整为['id', 'component']\n",
    "data_component_processed = data_component_processed[['id','component']]\n",
    "\n",
    "#将处理后结果写入'cffex-host-alarm-component.csv'（不带行标签，GBK编码）\n",
    "data_component_processed.to_csv('output_data\\cffex-host-alarm-component.csv', index = 0, encoding = 'GBK')\n",
    "\n",
    "\n",
    "#TODO：进行'category'字段的处理\n",
    "\n",
    "#将'category'字段提取出来作为一个DataFrame\n",
    "data_category = data_processed.loc[:,['category']]\n",
    "\n",
    "#去掉重复数据\n",
    "data_category_processed = data_category.drop_duplicates()\n",
    "\n",
    "#插入id列，编号从1开始\n",
    "data_category_processed['id'] = range(1,len(data_category_processed) + 1)\n",
    "\n",
    "#将列顺序调整为['id', 'category']\n",
    "data_category_processed = data_category_processed[['id','category']]\n",
    "\n",
    "#将处理后结果写入'cffex-host-alarm-category.csv'（不带行标签，GBK编码）\n",
    "data_category_processed.to_csv('output_data\\cffex-host-alarm-category.csv', index = 0, encoding = 'GBK')\n",
    "\n",
    "\n",
    "#TODO：将'component'和'category'字段替换为对应的'id'值，方便后续的数据处理\n",
    "\n",
    "#对'component'字段进行查找和替换\n",
    "data_processed['component'] = data_processed['component'].replace(data_component_processed['component'].tolist(),data_component_processed['id'].tolist())\n",
    "\n",
    "#对'category'字段进行查找和替换\n",
    "data_processed['category'] = data_processed['category'].replace(data_category_processed['category'].tolist(),data_category_processed['id'].tolist())\n",
    "\n",
    "#将处理后结果写入'cffex-host-alarm-processed.csv'（不带行标签，GBK编码）\n",
    "data_processed.to_csv('output_data\\cffex-host-alarm-processed.csv', index = 0, encoding = 'GBK')\n",
    "\n"
   ]
  },
  {
   "cell_type": "code",
   "execution_count": null,
   "metadata": {},
   "outputs": [],
   "source": []
  }
 ],
 "metadata": {
  "kernelspec": {
   "display_name": "Python 3",
   "language": "python",
   "name": "python3"
  },
  "language_info": {
   "codemirror_mode": {
    "name": "ipython",
    "version": 3
   },
   "file_extension": ".py",
   "mimetype": "text/x-python",
   "name": "python",
   "nbconvert_exporter": "python",
   "pygments_lexer": "ipython3",
   "version": "3.6.6rc1"
  }
 },
 "nbformat": 4,
 "nbformat_minor": 2
}
